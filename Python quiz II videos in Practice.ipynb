{
 "cells": [
  {
   "cell_type": "markdown",
   "metadata": {},
   "source": [
    "# Functions!"
   ]
  },
  {
   "cell_type": "markdown",
   "metadata": {},
   "source": [
    "* Functions are used for modularity and reusability."
   ]
  },
  {
   "cell_type": "markdown",
   "metadata": {},
   "source": [
    "![title](capture.png)"
   ]
  },
  {
   "cell_type": "markdown",
   "metadata": {},
   "source": [
    "![title](Functions1.png)"
   ]
  },
  {
   "cell_type": "code",
   "execution_count": 3,
   "metadata": {},
   "outputs": [],
   "source": [
    "def addNumbers():\n",
    "    fNumber = 10\n",
    "    sNumber = 15\n",
    "    total = fNumber + sNumber\n",
    "    print(total)"
   ]
  },
  {
   "cell_type": "code",
   "execution_count": 4,
   "metadata": {},
   "outputs": [
    {
     "name": "stdout",
     "output_type": "stream",
     "text": [
      "25\n"
     ]
    }
   ],
   "source": [
    "addNumbers()"
   ]
  },
  {
   "cell_type": "code",
   "execution_count": 5,
   "metadata": {},
   "outputs": [
    {
     "ename": "NameError",
     "evalue": "name 'notDefined' is not defined",
     "output_type": "error",
     "traceback": [
      "\u001b[1;31m---------------------------------------------------------------------------\u001b[0m",
      "\u001b[1;31mNameError\u001b[0m                                 Traceback (most recent call last)",
      "\u001b[1;32m<ipython-input-5-15661adafb10>\u001b[0m in \u001b[0;36m<module>\u001b[1;34m\u001b[0m\n\u001b[1;32m----> 1\u001b[1;33m \u001b[0mnotDefined\u001b[0m\u001b[1;33m(\u001b[0m\u001b[1;33m)\u001b[0m\u001b[1;33m\u001b[0m\u001b[1;33m\u001b[0m\u001b[0m\n\u001b[0m",
      "\u001b[1;31mNameError\u001b[0m: name 'notDefined' is not defined"
     ]
    }
   ],
   "source": [
    "notDefined()"
   ]
  },
  {
   "cell_type": "code",
   "execution_count": 6,
   "metadata": {},
   "outputs": [],
   "source": [
    "def notDefined():\n",
    "    print('Testing')\n",
    "    print()\n",
    "    print('End of  Function')"
   ]
  },
  {
   "cell_type": "code",
   "execution_count": 7,
   "metadata": {},
   "outputs": [
    {
     "name": "stdout",
     "output_type": "stream",
     "text": [
      "Testing\n",
      "\n",
      "End of  Function\n"
     ]
    }
   ],
   "source": [
    "notDefined()"
   ]
  },
  {
   "cell_type": "code",
   "execution_count": 8,
   "metadata": {},
   "outputs": [
    {
     "name": "stdout",
     "output_type": "stream",
     "text": [
      "Testing\n",
      "\n",
      "End of  Function\n",
      "......\n",
      "Testing\n",
      "\n",
      "End of  Function\n"
     ]
    }
   ],
   "source": [
    "notDefined()\n",
    "print('......')\n",
    "notDefined()"
   ]
  },
  {
   "cell_type": "code",
   "execution_count": 9,
   "metadata": {},
   "outputs": [
    {
     "name": "stdout",
     "output_type": "stream",
     "text": [
      "A line before the defination block of my Function.\n",
      "Second line after the defination block of my Function.\n"
     ]
    }
   ],
   "source": [
    "print('A line before the defination block of my Function.')\n",
    "def myFunction():\n",
    "    print(12 + 13)\n",
    "print('Second line after the defination block of my Function.')"
   ]
  },
  {
   "cell_type": "code",
   "execution_count": 10,
   "metadata": {},
   "outputs": [
    {
     "name": "stdout",
     "output_type": "stream",
     "text": [
      "25\n"
     ]
    }
   ],
   "source": [
    "myFunction()"
   ]
  },
  {
   "cell_type": "code",
   "execution_count": 11,
   "metadata": {},
   "outputs": [
    {
     "name": "stdout",
     "output_type": "stream",
     "text": [
      "Line before the function body/defination.\n",
      "Line after the defination block of the Function.\n",
      "Hello World\n",
      "\n",
      "End of Function\n",
      "Line after the INVOKE to the earlier defined Function.\n",
      "Hello World\n",
      "\n",
      "End of Function\n",
      "Hello World\n",
      "\n",
      "End of Function\n",
      "............................\n",
      "Hello World\n",
      "\n",
      "End of Function\n"
     ]
    }
   ],
   "source": [
    "print(\"Line before the function body/defination.\")\n",
    "def test():\n",
    "    print(\"Hello World\")\n",
    "    print()\n",
    "    print(\"End of Function\")\n",
    "print(\"Line after the defination block of the Function.\")\n",
    "test()\n",
    "print(\"Line after the INVOKE to the earlier defined Function.\")\n",
    "test()\n",
    "test()\n",
    "print('............................')\n",
    "test()"
   ]
  },
  {
   "cell_type": "markdown",
   "metadata": {},
   "source": [
    "* question Y don't we use loop(s) to repeat these tasks"
   ]
  },
  {
   "cell_type": "code",
   "execution_count": 12,
   "metadata": {},
   "outputs": [],
   "source": [
    "def add(): # parameter less function\n",
    "    print(100+150)"
   ]
  },
  {
   "cell_type": "code",
   "execution_count": 13,
   "metadata": {},
   "outputs": [
    {
     "name": "stdout",
     "output_type": "stream",
     "text": [
      "250\n"
     ]
    }
   ],
   "source": [
    "add()"
   ]
  },
  {
   "cell_type": "code",
   "execution_count": 14,
   "metadata": {},
   "outputs": [
    {
     "name": "stdout",
     "output_type": "stream",
     "text": [
      "250\n"
     ]
    }
   ],
   "source": [
    "add()"
   ]
  },
  {
   "cell_type": "code",
   "execution_count": 21,
   "metadata": {},
   "outputs": [],
   "source": [
    "def add(a, b): #parameterized function\n",
    "    '''This function takes two numbers as an input\n",
    "    and displays the sum of the \n",
    "    given numbers.'''\n",
    "    print(a+b)"
   ]
  },
  {
   "cell_type": "code",
   "execution_count": null,
   "metadata": {},
   "outputs": [],
   "source": [
    "add()  # shift + tab to display the signature of the function"
   ]
  },
  {
   "cell_type": "code",
   "execution_count": 16,
   "metadata": {},
   "outputs": [
    {
     "ename": "TypeError",
     "evalue": "add() missing 1 required positional argument: 'b'",
     "output_type": "error",
     "traceback": [
      "\u001b[1;31m---------------------------------------------------------------------------\u001b[0m",
      "\u001b[1;31mTypeError\u001b[0m                                 Traceback (most recent call last)",
      "\u001b[1;32m<ipython-input-16-431262d13eb1>\u001b[0m in \u001b[0;36m<module>\u001b[1;34m\u001b[0m\n\u001b[1;32m----> 1\u001b[1;33m \u001b[0madd\u001b[0m\u001b[1;33m(\u001b[0m\u001b[1;36m10\u001b[0m\u001b[1;33m+\u001b[0m\u001b[1;36m13\u001b[0m\u001b[1;33m)\u001b[0m \u001b[1;31m#wrong call to the function\u001b[0m\u001b[1;33m\u001b[0m\u001b[1;33m\u001b[0m\u001b[0m\n\u001b[0m",
      "\u001b[1;31mTypeError\u001b[0m: add() missing 1 required positional argument: 'b'"
     ]
    }
   ],
   "source": [
    "add(10+13) #wrong call to the function"
   ]
  },
  {
   "cell_type": "code",
   "execution_count": 22,
   "metadata": {},
   "outputs": [
    {
     "name": "stdout",
     "output_type": "stream",
     "text": [
      "27\n"
     ]
    }
   ],
   "source": [
    "add(10,17) # now the values being passed are known as Arguments NOT the Parameters :("
   ]
  },
  {
   "cell_type": "code",
   "execution_count": 23,
   "metadata": {},
   "outputs": [
    {
     "name": "stdout",
     "output_type": "stream",
     "text": [
      "303\n"
     ]
    }
   ],
   "source": [
    "add(101,202)"
   ]
  },
  {
   "cell_type": "code",
   "execution_count": 24,
   "metadata": {},
   "outputs": [
    {
     "ename": "TypeError",
     "evalue": "add() missing 2 required positional arguments: 'a' and 'b'",
     "output_type": "error",
     "traceback": [
      "\u001b[1;31m---------------------------------------------------------------------------\u001b[0m",
      "\u001b[1;31mTypeError\u001b[0m                                 Traceback (most recent call last)",
      "\u001b[1;32m<ipython-input-24-ac7afb053dd2>\u001b[0m in \u001b[0;36m<module>\u001b[1;34m\u001b[0m\n\u001b[1;32m----> 1\u001b[1;33m \u001b[0madd\u001b[0m\u001b[1;33m(\u001b[0m\u001b[1;33m)\u001b[0m \u001b[1;31m# SHIFT + TAB to display the Signature of any function\u001b[0m\u001b[1;33m\u001b[0m\u001b[1;33m\u001b[0m\u001b[0m\n\u001b[0m",
      "\u001b[1;31mTypeError\u001b[0m: add() missing 2 required positional arguments: 'a' and 'b'"
     ]
    }
   ],
   "source": [
    "add() # SHIFT + TAB to display the Signature of any function"
   ]
  },
  {
   "cell_type": "code",
   "execution_count": 25,
   "metadata": {},
   "outputs": [
    {
     "data": {
      "text/plain": [
       "7"
      ]
     },
     "execution_count": 25,
     "metadata": {},
     "output_type": "execute_result"
    }
   ],
   "source": [
    "max([1,2,3,4,7,5])"
   ]
  },
  {
   "cell_type": "code",
   "execution_count": 26,
   "metadata": {},
   "outputs": [],
   "source": [
    "def min():\n",
    "    print('Testing')"
   ]
  },
  {
   "cell_type": "code",
   "execution_count": 27,
   "metadata": {},
   "outputs": [
    {
     "name": "stdout",
     "output_type": "stream",
     "text": [
      "Testing\n"
     ]
    }
   ],
   "source": [
    "min()"
   ]
  },
  {
   "cell_type": "code",
   "execution_count": 28,
   "metadata": {},
   "outputs": [
    {
     "ename": "TypeError",
     "evalue": "min() takes 0 positional arguments but 3 were given",
     "output_type": "error",
     "traceback": [
      "\u001b[1;31m---------------------------------------------------------------------------\u001b[0m",
      "\u001b[1;31mTypeError\u001b[0m                                 Traceback (most recent call last)",
      "\u001b[1;32m<ipython-input-28-b3e1a49e9feb>\u001b[0m in \u001b[0;36m<module>\u001b[1;34m\u001b[0m\n\u001b[1;32m----> 1\u001b[1;33m \u001b[0mmin\u001b[0m\u001b[1;33m(\u001b[0m\u001b[1;36m12\u001b[0m\u001b[1;33m,\u001b[0m\u001b[1;36m34\u001b[0m\u001b[1;33m,\u001b[0m\u001b[1;36m45\u001b[0m\u001b[1;33m)\u001b[0m\u001b[1;33m\u001b[0m\u001b[1;33m\u001b[0m\u001b[0m\n\u001b[0m",
      "\u001b[1;31mTypeError\u001b[0m: min() takes 0 positional arguments but 3 were given"
     ]
    }
   ],
   "source": [
    "min(12,34,45)"
   ]
  },
  {
   "cell_type": "code",
   "execution_count": 29,
   "metadata": {},
   "outputs": [
    {
     "ename": "TypeError",
     "evalue": "min() takes 0 positional arguments but 4 were given",
     "output_type": "error",
     "traceback": [
      "\u001b[1;31m---------------------------------------------------------------------------\u001b[0m",
      "\u001b[1;31mTypeError\u001b[0m                                 Traceback (most recent call last)",
      "\u001b[1;32m<ipython-input-29-dc2f9529e839>\u001b[0m in \u001b[0;36m<module>\u001b[1;34m\u001b[0m\n\u001b[1;32m----> 1\u001b[1;33m \u001b[0mmin\u001b[0m\u001b[1;33m(\u001b[0m\u001b[1;36m12\u001b[0m\u001b[1;33m,\u001b[0m\u001b[1;36m3\u001b[0m\u001b[1;33m,\u001b[0m\u001b[1;36m4\u001b[0m\u001b[1;33m,\u001b[0m\u001b[1;36m101\u001b[0m\u001b[1;33m)\u001b[0m\u001b[1;33m\u001b[0m\u001b[1;33m\u001b[0m\u001b[0m\n\u001b[0m",
      "\u001b[1;31mTypeError\u001b[0m: min() takes 0 positional arguments but 4 were given"
     ]
    }
   ],
   "source": [
    "min(12,3,4,101)"
   ]
  },
  {
   "cell_type": "code",
   "execution_count": 30,
   "metadata": {},
   "outputs": [
    {
     "ename": "TypeError",
     "evalue": "add() missing 2 required positional arguments: 'a' and 'b'",
     "output_type": "error",
     "traceback": [
      "\u001b[1;31m---------------------------------------------------------------------------\u001b[0m",
      "\u001b[1;31mTypeError\u001b[0m                                 Traceback (most recent call last)",
      "\u001b[1;32m<ipython-input-30-d5d29de3ed94>\u001b[0m in \u001b[0;36m<module>\u001b[1;34m\u001b[0m\n\u001b[1;32m----> 1\u001b[1;33m \u001b[0madd\u001b[0m\u001b[1;33m(\u001b[0m\u001b[1;33m)\u001b[0m\u001b[1;33m\u001b[0m\u001b[1;33m\u001b[0m\u001b[0m\n\u001b[0m",
      "\u001b[1;31mTypeError\u001b[0m: add() missing 2 required positional arguments: 'a' and 'b'"
     ]
    }
   ],
   "source": [
    "add()"
   ]
  },
  {
   "cell_type": "code",
   "execution_count": 31,
   "metadata": {},
   "outputs": [
    {
     "ename": "TypeError",
     "evalue": "add() missing 2 required positional arguments: 'a' and 'b'",
     "output_type": "error",
     "traceback": [
      "\u001b[1;31m---------------------------------------------------------------------------\u001b[0m",
      "\u001b[1;31mTypeError\u001b[0m                                 Traceback (most recent call last)",
      "\u001b[1;32m<ipython-input-31-d5d29de3ed94>\u001b[0m in \u001b[0;36m<module>\u001b[1;34m\u001b[0m\n\u001b[1;32m----> 1\u001b[1;33m \u001b[0madd\u001b[0m\u001b[1;33m(\u001b[0m\u001b[1;33m)\u001b[0m\u001b[1;33m\u001b[0m\u001b[1;33m\u001b[0m\u001b[0m\n\u001b[0m",
      "\u001b[1;31mTypeError\u001b[0m: add() missing 2 required positional arguments: 'a' and 'b'"
     ]
    }
   ],
   "source": [
    "add()"
   ]
  },
  {
   "cell_type": "code",
   "execution_count": 32,
   "metadata": {},
   "outputs": [
    {
     "name": "stdout",
     "output_type": "stream",
     "text": [
      "150\n"
     ]
    }
   ],
   "source": [
    "add(100,50) # positional arguments cz arguments are being passed as per the position of the Argument"
   ]
  },
  {
   "cell_type": "code",
   "execution_count": 33,
   "metadata": {},
   "outputs": [
    {
     "name": "stdout",
     "output_type": "stream",
     "text": [
      "15\n"
     ]
    }
   ],
   "source": [
    "add(b=5, a=10) # passing information keyword arguments"
   ]
  },
  {
   "cell_type": "code",
   "execution_count": 34,
   "metadata": {},
   "outputs": [],
   "source": [
    "def fullName(first, middle, last):\n",
    "    print(first+' '+middle+' '+last)"
   ]
  },
  {
   "cell_type": "code",
   "execution_count": 35,
   "metadata": {},
   "outputs": [
    {
     "name": "stdout",
     "output_type": "stream",
     "text": [
      "Ali Hussain Khan\n"
     ]
    }
   ],
   "source": [
    "fullName('Ali','Hussain','Khan')"
   ]
  },
  {
   "cell_type": "code",
   "execution_count": 36,
   "metadata": {},
   "outputs": [
    {
     "name": "stdout",
     "output_type": "stream",
     "text": [
      "Hussain Khan Ali\n"
     ]
    }
   ],
   "source": [
    "fullName('Hussain','Khan','Ali') # position matters in positional arguments"
   ]
  },
  {
   "cell_type": "code",
   "execution_count": 37,
   "metadata": {},
   "outputs": [
    {
     "name": "stdout",
     "output_type": "stream",
     "text": [
      "Ali Hussain Khan\n"
     ]
    }
   ],
   "source": [
    "fullName(middle='Hussain',last='Khan',first='Ali')"
   ]
  },
  {
   "cell_type": "code",
   "execution_count": 38,
   "metadata": {},
   "outputs": [
    {
     "name": "stdout",
     "output_type": "stream",
     "text": [
      "Ali Hussain Khan\n"
     ]
    }
   ],
   "source": [
    "fullName('Ali',last='Khan',middle='Hussain')"
   ]
  },
  {
   "cell_type": "code",
   "execution_count": 39,
   "metadata": {},
   "outputs": [
    {
     "ename": "SyntaxError",
     "evalue": "positional argument follows keyword argument (<ipython-input-39-bc4283aa195d>, line 1)",
     "output_type": "error",
     "traceback": [
      "\u001b[1;36m  File \u001b[1;32m\"<ipython-input-39-bc4283aa195d>\"\u001b[1;36m, line \u001b[1;32m1\u001b[0m\n\u001b[1;33m    fullName(middle='Hussain',first='Ali','Khan')\u001b[0m\n\u001b[1;37m                                         ^\u001b[0m\n\u001b[1;31mSyntaxError\u001b[0m\u001b[1;31m:\u001b[0m positional argument follows keyword argument\n"
     ]
    }
   ],
   "source": [
    "fullName(middle='Hussain',first='Ali','Khan')"
   ]
  },
  {
   "cell_type": "markdown",
   "metadata": {},
   "source": [
    "## Default value parameters"
   ]
  },
  {
   "cell_type": "code",
   "execution_count": 40,
   "metadata": {},
   "outputs": [
    {
     "ename": "TypeError",
     "evalue": "fullName() missing 1 required positional argument: 'last'",
     "output_type": "error",
     "traceback": [
      "\u001b[1;31m---------------------------------------------------------------------------\u001b[0m",
      "\u001b[1;31mTypeError\u001b[0m                                 Traceback (most recent call last)",
      "\u001b[1;32m<ipython-input-40-a6368bec8514>\u001b[0m in \u001b[0;36m<module>\u001b[1;34m\u001b[0m\n\u001b[1;32m----> 1\u001b[1;33m \u001b[0mfullName\u001b[0m\u001b[1;33m(\u001b[0m\u001b[1;34m'Shahzad'\u001b[0m\u001b[1;33m,\u001b[0m\u001b[1;34m'Ahmed'\u001b[0m\u001b[1;33m)\u001b[0m\u001b[1;33m\u001b[0m\u001b[1;33m\u001b[0m\u001b[0m\n\u001b[0m",
      "\u001b[1;31mTypeError\u001b[0m: fullName() missing 1 required positional argument: 'last'"
     ]
    }
   ],
   "source": [
    "fullName('Shahzad','Ahmed')"
   ]
  },
  {
   "cell_type": "code",
   "execution_count": 41,
   "metadata": {},
   "outputs": [
    {
     "ename": "SyntaxError",
     "evalue": "non-default argument follows default argument (<ipython-input-41-d10f943adeb5>, line 1)",
     "output_type": "error",
     "traceback": [
      "\u001b[1;36m  File \u001b[1;32m\"<ipython-input-41-d10f943adeb5>\"\u001b[1;36m, line \u001b[1;32m1\u001b[0m\n\u001b[1;33m    def fullName(first, middle='', last):\u001b[0m\n\u001b[1;37m                ^\u001b[0m\n\u001b[1;31mSyntaxError\u001b[0m\u001b[1;31m:\u001b[0m non-default argument follows default argument\n"
     ]
    }
   ],
   "source": [
    "def fullName(first, middle='', last):\n",
    "    print(first+' '+middle+' '+last)"
   ]
  },
  {
   "cell_type": "code",
   "execution_count": 42,
   "metadata": {},
   "outputs": [],
   "source": [
    "def fullName(first,  last, middle=''):\n",
    "    print(first+' '+middle+' '+last)"
   ]
  },
  {
   "cell_type": "code",
   "execution_count": 43,
   "metadata": {},
   "outputs": [
    {
     "name": "stdout",
     "output_type": "stream",
     "text": [
      "Shahzad  Ahmed\n"
     ]
    }
   ],
   "source": [
    "fullName('Shahzad','Ahmed')"
   ]
  },
  {
   "cell_type": "code",
   "execution_count": 44,
   "metadata": {},
   "outputs": [
    {
     "name": "stdout",
     "output_type": "stream",
     "text": [
      "Nasir Ali Hussain\n"
     ]
    }
   ],
   "source": [
    "fullName('Nasir','Hussain', 'Ali')"
   ]
  },
  {
   "cell_type": "code",
   "execution_count": 45,
   "metadata": {},
   "outputs": [
    {
     "ename": "SyntaxError",
     "evalue": "non-default argument follows default argument (<ipython-input-45-35aa04ff9d82>, line 1)",
     "output_type": "error",
     "traceback": [
      "\u001b[1;36m  File \u001b[1;32m\"<ipython-input-45-35aa04ff9d82>\"\u001b[1;36m, line \u001b[1;32m1\u001b[0m\n\u001b[1;33m    def fullName(first,  last='', middle): # please note that non default argument can not follow defaule argument\u001b[0m\n\u001b[1;37m                ^\u001b[0m\n\u001b[1;31mSyntaxError\u001b[0m\u001b[1;31m:\u001b[0m non-default argument follows default argument\n"
     ]
    }
   ],
   "source": [
    "def fullName(first,  last='', middle): # please note that non default argument can not follow defaule argument\n",
    "    print(first+' '+middle+' '+last)"
   ]
  },
  {
   "cell_type": "markdown",
   "metadata": {},
   "source": [
    "# Dealing with an unknown number of arguments (arbitrary arguments)"
   ]
  },
  {
   "cell_type": "code",
   "execution_count": 46,
   "metadata": {},
   "outputs": [],
   "source": [
    "def pizzaOrder(size, flavour, toppings):\n",
    "    print(f\"Your order of pizza of size: {size}, flavour: {flavour}, and toppins: {toppings} is ready.\")"
   ]
  },
  {
   "cell_type": "code",
   "execution_count": 47,
   "metadata": {},
   "outputs": [
    {
     "name": "stdout",
     "output_type": "stream",
     "text": [
      "Your order of pizza of size: 12, flavour: Chicken Tikka, and toppins: Olives is ready.\n"
     ]
    }
   ],
   "source": [
    "pizzaOrder(12,'Chicken Tikka','Olives')"
   ]
  },
  {
   "cell_type": "code",
   "execution_count": 48,
   "metadata": {},
   "outputs": [
    {
     "ename": "TypeError",
     "evalue": "pizzaOrder() takes 3 positional arguments but 4 were given",
     "output_type": "error",
     "traceback": [
      "\u001b[1;31m---------------------------------------------------------------------------\u001b[0m",
      "\u001b[1;31mTypeError\u001b[0m                                 Traceback (most recent call last)",
      "\u001b[1;32m<ipython-input-48-0e839090de3d>\u001b[0m in \u001b[0;36m<module>\u001b[1;34m\u001b[0m\n\u001b[1;32m----> 1\u001b[1;33m \u001b[0mpizzaOrder\u001b[0m\u001b[1;33m(\u001b[0m\u001b[1;36m12\u001b[0m\u001b[1;33m,\u001b[0m\u001b[1;34m'Chicken Tikka'\u001b[0m\u001b[1;33m,\u001b[0m\u001b[1;34m'Olives'\u001b[0m\u001b[1;33m,\u001b[0m\u001b[1;34m'Fruits'\u001b[0m\u001b[1;33m)\u001b[0m\u001b[1;33m\u001b[0m\u001b[1;33m\u001b[0m\u001b[0m\n\u001b[0m",
      "\u001b[1;31mTypeError\u001b[0m: pizzaOrder() takes 3 positional arguments but 4 were given"
     ]
    }
   ],
   "source": [
    "pizzaOrder(12,'Chicken Tikka','Olives','Fruits')"
   ]
  },
  {
   "cell_type": "code",
   "execution_count": 49,
   "metadata": {},
   "outputs": [],
   "source": [
    "def pizzaOrder(size, flavour, *toppings): # this parameter deals with arbitrary arguments\n",
    "    print(f\"Your order of pizza of size: {size}, flavour: {flavour}, and toppins: {toppings} is ready.\")"
   ]
  },
  {
   "cell_type": "code",
   "execution_count": 50,
   "metadata": {},
   "outputs": [
    {
     "name": "stdout",
     "output_type": "stream",
     "text": [
      "Your order of pizza of size: 12, flavour: Chicken Tikka, and toppins: ('Olives', 'Fruits') is ready.\n"
     ]
    }
   ],
   "source": [
    "pizzaOrder(12,'Chicken Tikka','Olives','Fruits')"
   ]
  },
  {
   "cell_type": "code",
   "execution_count": 51,
   "metadata": {},
   "outputs": [
    {
     "name": "stdout",
     "output_type": "stream",
     "text": [
      "Your order of pizza of size: 12, flavour: Chicken Tikka, and toppins: () is ready.\n"
     ]
    }
   ],
   "source": [
    "pizzaOrder(12,'Chicken Tikka')"
   ]
  },
  {
   "cell_type": "code",
   "execution_count": 52,
   "metadata": {},
   "outputs": [
    {
     "name": "stdout",
     "output_type": "stream",
     "text": [
      "Your order of pizza of size: 12, flavour: Chicken Tikka, and toppins: ('Olives', 'Fruits', 'abcd', 'xyz') is ready.\n"
     ]
    }
   ],
   "source": [
    "pizzaOrder(12,'Chicken Tikka','Olives','Fruits','abcd','xyz')"
   ]
  },
  {
   "cell_type": "code",
   "execution_count": 53,
   "metadata": {},
   "outputs": [],
   "source": [
    "# arbitrary argument's parameter must be the LAST in position"
   ]
  },
  {
   "cell_type": "code",
   "execution_count": 54,
   "metadata": {},
   "outputs": [],
   "source": [
    "def pizzaOrder(size, *toppings, flavour): # this parameter deals with arbitrary arguments\n",
    "    print(f\"Your order of pizza of size: {size}, flavour: {flavour}, and toppins: {toppings} is ready.\")"
   ]
  },
  {
   "cell_type": "code",
   "execution_count": 55,
   "metadata": {},
   "outputs": [
    {
     "ename": "TypeError",
     "evalue": "pizzaOrder() missing 1 required keyword-only argument: 'flavour'",
     "output_type": "error",
     "traceback": [
      "\u001b[1;31m---------------------------------------------------------------------------\u001b[0m",
      "\u001b[1;31mTypeError\u001b[0m                                 Traceback (most recent call last)",
      "\u001b[1;32m<ipython-input-55-c1be85be9425>\u001b[0m in \u001b[0;36m<module>\u001b[1;34m\u001b[0m\n\u001b[1;32m----> 1\u001b[1;33m \u001b[0mpizzaOrder\u001b[0m\u001b[1;33m(\u001b[0m\u001b[1;36m16\u001b[0m\u001b[1;33m,\u001b[0m\u001b[1;34m'Olives'\u001b[0m\u001b[1;33m,\u001b[0m\u001b[1;34m'Fruits'\u001b[0m\u001b[1;33m,\u001b[0m\u001b[1;34m'Chicken Tikka'\u001b[0m\u001b[1;33m)\u001b[0m \u001b[1;31m# all the arguments after SIZE being considered as *toppings\u001b[0m\u001b[1;33m\u001b[0m\u001b[1;33m\u001b[0m\u001b[0m\n\u001b[0m",
      "\u001b[1;31mTypeError\u001b[0m: pizzaOrder() missing 1 required keyword-only argument: 'flavour'"
     ]
    }
   ],
   "source": [
    "pizzaOrder(16,'Olives','Fruits','Chicken Tikka') # all the arguments after SIZE being considered as *toppings"
   ]
  },
  {
   "cell_type": "code",
   "execution_count": 56,
   "metadata": {},
   "outputs": [
    {
     "name": "stdout",
     "output_type": "stream",
     "text": [
      "Your order of pizza of size: 16, flavour: Chicken Tikka, and toppins: ('Olives', 'Fruits') is ready.\n"
     ]
    }
   ],
   "source": [
    "pizzaOrder(16,'Olives','Fruits',flavour='Chicken Tikka') #solution is to pass the keyword arguments for FLAVOUR"
   ]
  },
  {
   "cell_type": "code",
   "execution_count": 57,
   "metadata": {},
   "outputs": [],
   "source": [
    "# arbitrary argument's parameter must be the LAST in position"
   ]
  },
  {
   "cell_type": "markdown",
   "metadata": {},
   "source": [
    "# Passing back information from the Functions"
   ]
  },
  {
   "cell_type": "markdown",
   "metadata": {},
   "source": [
    " * Function can Return value(s) using the return keyword"
   ]
  },
  {
   "cell_type": "code",
   "execution_count": 58,
   "metadata": {},
   "outputs": [],
   "source": [
    "def add(val1, val2):\n",
    "    ans = val1 + val2\n",
    "    return ans"
   ]
  },
  {
   "cell_type": "code",
   "execution_count": 59,
   "metadata": {},
   "outputs": [
    {
     "data": {
      "text/plain": [
       "125"
      ]
     },
     "execution_count": 59,
     "metadata": {},
     "output_type": "execute_result"
    }
   ],
   "source": [
    "result = add(100,25)\n",
    "result"
   ]
  },
  {
   "cell_type": "code",
   "execution_count": 60,
   "metadata": {},
   "outputs": [],
   "source": [
    "def add(val1, val2):\n",
    "    ans = val1 + val2\n",
    "    return ans, \"Hello Function\""
   ]
  },
  {
   "cell_type": "code",
   "execution_count": 61,
   "metadata": {},
   "outputs": [],
   "source": [
    "result=add(10,25)"
   ]
  },
  {
   "cell_type": "code",
   "execution_count": 62,
   "metadata": {},
   "outputs": [
    {
     "data": {
      "text/plain": [
       "(35, 'Hello Function')"
      ]
     },
     "execution_count": 62,
     "metadata": {},
     "output_type": "execute_result"
    }
   ],
   "source": [
    "result"
   ]
  },
  {
   "cell_type": "code",
   "execution_count": 63,
   "metadata": {},
   "outputs": [],
   "source": [
    "def add(val1, val2):\n",
    "    ans = val1 + val2\n",
    "    return ans, \"Hello Function\"\n",
    "    print(\"will this execute???\") # return MUST BE the last statement in a functi"
   ]
  },
  {
   "cell_type": "code",
   "execution_count": 64,
   "metadata": {},
   "outputs": [
    {
     "data": {
      "text/plain": [
       "(35, 'Hello Function')"
      ]
     },
     "execution_count": 64,
     "metadata": {},
     "output_type": "execute_result"
    }
   ],
   "source": [
    "result=add(10,25)\n",
    "result"
   ]
  },
  {
   "cell_type": "markdown",
   "metadata": {},
   "source": [
    "# Using Functions as Variables"
   ]
  },
  {
   "cell_type": "code",
   "execution_count": 65,
   "metadata": {},
   "outputs": [],
   "source": [
    "def add(a,b):\n",
    "    return a+b\n",
    "    # if a function does not return any value it returns None\n",
    "def subtract(a, b):\n",
    "    return a-b"
   ]
  },
  {
   "cell_type": "code",
   "execution_count": 66,
   "metadata": {},
   "outputs": [
    {
     "data": {
      "text/plain": [
       "25"
      ]
     },
     "execution_count": 66,
     "metadata": {},
     "output_type": "execute_result"
    }
   ],
   "source": [
    "result=add(2,3) ** subtract(4,2)\n",
    "result"
   ]
  },
  {
   "cell_type": "code",
   "execution_count": 67,
   "metadata": {},
   "outputs": [],
   "source": [
    "def test():\n",
    "    print(\"Hello\")"
   ]
  },
  {
   "cell_type": "code",
   "execution_count": 68,
   "metadata": {},
   "outputs": [
    {
     "name": "stdout",
     "output_type": "stream",
     "text": [
      "Hello\n"
     ]
    },
    {
     "ename": "TypeError",
     "evalue": "unsupported operand type(s) for ** or pow(): 'int' and 'NoneType'",
     "output_type": "error",
     "traceback": [
      "\u001b[1;31m---------------------------------------------------------------------------\u001b[0m",
      "\u001b[1;31mTypeError\u001b[0m                                 Traceback (most recent call last)",
      "\u001b[1;32m<ipython-input-68-2735ee3509fa>\u001b[0m in \u001b[0;36m<module>\u001b[1;34m\u001b[0m\n\u001b[1;32m----> 1\u001b[1;33m \u001b[0mresult\u001b[0m\u001b[1;33m=\u001b[0m\u001b[0madd\u001b[0m\u001b[1;33m(\u001b[0m\u001b[1;36m2\u001b[0m\u001b[1;33m,\u001b[0m\u001b[1;36m3\u001b[0m\u001b[1;33m)\u001b[0m \u001b[1;33m**\u001b[0m \u001b[0mtest\u001b[0m\u001b[1;33m(\u001b[0m\u001b[1;33m)\u001b[0m\u001b[1;33m\u001b[0m\u001b[1;33m\u001b[0m\u001b[0m\n\u001b[0m\u001b[0;32m      2\u001b[0m \u001b[0mresult\u001b[0m\u001b[1;33m\u001b[0m\u001b[1;33m\u001b[0m\u001b[0m\n",
      "\u001b[1;31mTypeError\u001b[0m: unsupported operand type(s) for ** or pow(): 'int' and 'NoneType'"
     ]
    }
   ],
   "source": [
    "result=add(2,3) ** test()\n",
    "result"
   ]
  },
  {
   "cell_type": "markdown",
   "metadata": {},
   "source": [
    "# Functions Local and Global Variables"
   ]
  },
  {
   "cell_type": "code",
   "execution_count": 69,
   "metadata": {},
   "outputs": [],
   "source": [
    "def beHappy():\n",
    "    name = 'Mr. A' # local variable\n",
    "    print(f\"{name} is very happy today.\")"
   ]
  },
  {
   "cell_type": "code",
   "execution_count": 70,
   "metadata": {},
   "outputs": [
    {
     "name": "stdout",
     "output_type": "stream",
     "text": [
      "Mr. A is very happy today.\n"
     ]
    },
    {
     "ename": "NameError",
     "evalue": "name 'name' is not defined",
     "output_type": "error",
     "traceback": [
      "\u001b[1;31m---------------------------------------------------------------------------\u001b[0m",
      "\u001b[1;31mNameError\u001b[0m                                 Traceback (most recent call last)",
      "\u001b[1;32m<ipython-input-70-408dec59e6a5>\u001b[0m in \u001b[0;36m<module>\u001b[1;34m\u001b[0m\n\u001b[0;32m      1\u001b[0m \u001b[0mbeHappy\u001b[0m\u001b[1;33m(\u001b[0m\u001b[1;33m)\u001b[0m\u001b[1;33m\u001b[0m\u001b[1;33m\u001b[0m\u001b[0m\n\u001b[1;32m----> 2\u001b[1;33m \u001b[0mprint\u001b[0m\u001b[1;33m(\u001b[0m\u001b[0mname\u001b[0m\u001b[1;33m)\u001b[0m\u001b[1;33m\u001b[0m\u001b[1;33m\u001b[0m\u001b[0m\n\u001b[0m",
      "\u001b[1;31mNameError\u001b[0m: name 'name' is not defined"
     ]
    }
   ],
   "source": [
    "beHappy()\n",
    "print(name)"
   ]
  },
  {
   "cell_type": "code",
   "execution_count": 71,
   "metadata": {},
   "outputs": [],
   "source": [
    "anotherName = 'Mr. B' # global variable\n",
    "def beHappy():\n",
    "    name = 'Mr. A' # local variable\n",
    "    print(f\"{name} is very happy to meet {anotherName} today.\")"
   ]
  },
  {
   "cell_type": "code",
   "execution_count": 72,
   "metadata": {},
   "outputs": [
    {
     "name": "stdout",
     "output_type": "stream",
     "text": [
      "Mr. A is very happy to meet Mr. B today.\n"
     ]
    }
   ],
   "source": [
    "beHappy()"
   ]
  },
  {
   "cell_type": "code",
   "execution_count": 73,
   "metadata": {},
   "outputs": [
    {
     "name": "stdout",
     "output_type": "stream",
     "text": [
      "Mr. B\n"
     ]
    }
   ],
   "source": [
    "print(anotherName)"
   ]
  },
  {
   "cell_type": "code",
   "execution_count": 74,
   "metadata": {},
   "outputs": [
    {
     "ename": "NameError",
     "evalue": "name 'name' is not defined",
     "output_type": "error",
     "traceback": [
      "\u001b[1;31m---------------------------------------------------------------------------\u001b[0m",
      "\u001b[1;31mNameError\u001b[0m                                 Traceback (most recent call last)",
      "\u001b[1;32m<ipython-input-74-9ba126b17b03>\u001b[0m in \u001b[0;36m<module>\u001b[1;34m\u001b[0m\n\u001b[1;32m----> 1\u001b[1;33m \u001b[0mprint\u001b[0m\u001b[1;33m(\u001b[0m\u001b[0mname\u001b[0m\u001b[1;33m)\u001b[0m\u001b[1;33m\u001b[0m\u001b[1;33m\u001b[0m\u001b[0m\n\u001b[0m",
      "\u001b[1;31mNameError\u001b[0m: name 'name' is not defined"
     ]
    }
   ],
   "source": [
    "print(name)"
   ]
  },
  {
   "cell_type": "markdown",
   "metadata": {},
   "source": [
    "# Functions within other Functions"
   ]
  },
  {
   "cell_type": "code",
   "execution_count": 75,
   "metadata": {},
   "outputs": [],
   "source": [
    "def commissionCalc(sales):\n",
    "    if sales > 100:\n",
    "        return sales * 100\n",
    "    elif sales > 50:\n",
    "        return sales * 50\n",
    "    elif sales > 20:\n",
    "        return sales * 20\n",
    "    else:\n",
    "        return 0\n",
    "def salCalc(basic, sales):\n",
    "    grossSal = basic + commissionCalc(sales)\n",
    "    print(f\"Your gross Salary: {grossSal}.\")\n",
    "          "
   ]
  },
  {
   "cell_type": "code",
   "execution_count": 76,
   "metadata": {},
   "outputs": [
    {
     "name": "stdout",
     "output_type": "stream",
     "text": [
      "Your gross Salary: 18750.\n"
     ]
    }
   ],
   "source": [
    "salCalc(16000,55)"
   ]
  },
  {
   "cell_type": "code",
   "execution_count": 77,
   "metadata": {},
   "outputs": [
    {
     "name": "stdout",
     "output_type": "stream",
     "text": [
      "Your gross Salary: 16000.\n"
     ]
    }
   ],
   "source": [
    "salCalc(16000,19)"
   ]
  },
  {
   "cell_type": "markdown",
   "metadata": {},
   "source": [
    "# while loops"
   ]
  },
  {
   "cell_type": "code",
   "execution_count": 78,
   "metadata": {},
   "outputs": [
    {
     "name": "stdout",
     "output_type": "stream",
     "text": [
      "This is while loop printing: 0\n",
      "This is while loop printing: 1\n",
      "This is while loop printing: 2\n",
      "This is while loop printing: 3\n",
      "This is while loop printing: 4\n",
      "This is while loop printing: 5\n",
      "This is while loop printing: 6\n",
      "This is while loop printing: 7\n",
      "This is while loop printing: 8\n",
      "This is while loop printing: 9\n"
     ]
    }
   ],
   "source": [
    "a = 0\n",
    "while a < 10:\n",
    "    print(\"This is while loop printing: \"+str(a))\n",
    "    a += 1"
   ]
  },
  {
   "cell_type": "code",
   "execution_count": 79,
   "metadata": {},
   "outputs": [
    {
     "name": "stdout",
     "output_type": "stream",
     "text": [
      "This is for loop printing: 0\n",
      "This is for loop printing: 1\n",
      "This is for loop printing: 2\n",
      "This is for loop printing: 3\n",
      "This is for loop printing: 4\n",
      "This is for loop printing: 5\n",
      "This is for loop printing: 6\n",
      "This is for loop printing: 7\n",
      "This is for loop printing: 8\n",
      "This is for loop printing: 9\n"
     ]
    }
   ],
   "source": [
    "#a = 0\n",
    "for a in range(10):\n",
    "    print(\"This is for loop printing: \"+str(a))\n",
    "    #a += 1"
   ]
  },
  {
   "cell_type": "code",
   "execution_count": 80,
   "metadata": {},
   "outputs": [
    {
     "name": "stdout",
     "output_type": "stream",
     "text": [
      "Enter your favourite food: a\n",
      "Enter your favourite food: b\n",
      "Enter your favourite food: c\n",
      "Enter your favourite food: d\n",
      "Enter your favourite food: e\n",
      "Enter your favourite food: f\n",
      "Enter your favourite food: g\n",
      "Enter your favourite food: h\n",
      "Enter your favourite food: i\n",
      "Enter your favourite food: j\n"
     ]
    }
   ],
   "source": [
    "a = 0\n",
    "while a < 10:\n",
    "    input(\"Enter your favourite food: \")\n",
    "    a += 1"
   ]
  },
  {
   "cell_type": "code",
   "execution_count": 81,
   "metadata": {},
   "outputs": [
    {
     "name": "stdout",
     "output_type": "stream",
     "text": [
      "Enter your favourite food or press Q to quit: a\n",
      "Enter your favourite food or press Q to quit: b\n",
      "Enter your favourite food or press Q to quit: c\n",
      "Enter your favourite food or press Q to quit: q\n"
     ]
    },
    {
     "data": {
      "text/plain": [
       "['a', 'b', 'c']"
      ]
     },
     "execution_count": 81,
     "metadata": {},
     "output_type": "execute_result"
    }
   ],
   "source": [
    "flag = True\n",
    "favFoods = []\n",
    "while flag:\n",
    "    userinput = input(\"Enter your favourite food or press Q to quit: \")\n",
    "    if userinput.lower().strip() == 'q':\n",
    "        flag = False\n",
    "    else:\n",
    "        favFoods.append(userinput)\n",
    "favFoods"
   ]
  },
  {
   "cell_type": "markdown",
   "metadata": {},
   "source": [
    "# classes (object oriented programming's first concept)"
   ]
  },
  {
   "cell_type": "markdown",
   "metadata": {},
   "source": [
    "![title](classes.png)"
   ]
  },
  {
   "cell_type": "code",
   "execution_count": 8,
   "metadata": {},
   "outputs": [],
   "source": [
    "# python is an \"object oriented programming language\". \n",
    "# i.e. almost all the code is implemented using special construct called \"classes\""
   ]
  },
  {
   "cell_type": "code",
   "execution_count": 9,
   "metadata": {},
   "outputs": [],
   "source": [
    "# A class is a model\n",
    "# A class is a blueprint(model) of anything.\n",
    "# A class is a template.\n",
    "# A class may also be defined as something that can be used to creat objects and instances"
   ]
  },
  {
   "cell_type": "code",
   "execution_count": 10,
   "metadata": {},
   "outputs": [],
   "source": [
    "# objects are instances (copies) of classes"
   ]
  },
  {
   "cell_type": "markdown",
   "metadata": {},
   "source": [
    "![title](objects.png)"
   ]
  },
  {
   "cell_type": "code",
   "execution_count": 14,
   "metadata": {},
   "outputs": [],
   "source": [
    "# car class\n",
    "    # car has a color\n",
    "    # car has a make\n",
    "    # car has a model\n",
    "    # car has engine capacity\n",
    "    # car has seatting capacity"
   ]
  },
  {
   "cell_type": "markdown",
   "metadata": {},
   "source": [
    "![title](car.png)"
   ]
  },
  {
   "cell_type": "code",
   "execution_count": 15,
   "metadata": {},
   "outputs": [],
   "source": [
    "# A class may hold attributes (variables)\n",
    "# A class may also hold behaviours(functions)"
   ]
  },
  {
   "cell_type": "markdown",
   "metadata": {},
   "source": [
    "![title](cclass.png)"
   ]
  },
  {
   "cell_type": "markdown",
   "metadata": {},
   "source": [
    "# class creating an instance"
   ]
  },
  {
   "cell_type": "raw",
   "metadata": {},
   "source": [
    "class Car():\n",
    "    # define a class body\n",
    "        # attributes and behaviours\n",
    "\n",
    "# creating objects/instances of the class (Car)\n",
    "    car1 = Car()\n",
    "    car2 = Car()"
   ]
  },
  {
   "cell_type": "markdown",
   "metadata": {},
   "source": [
    "# A complete example about creating class and object(s)"
   ]
  },
  {
   "cell_type": "code",
   "execution_count": 5,
   "metadata": {},
   "outputs": [],
   "source": [
    "# define a class\n",
    "\n",
    "class Car(): # naming convention of classes is to use the Title case\n",
    "    '''\n",
    "    this Car class constructs object with 3 attributes:\n",
    "    make\n",
    "    model\n",
    "    year\n",
    "    then it displays the describtion by using the function:\n",
    "    carDescription()\n",
    "    ans also has the behaviours (functions):\n",
    "    move\n",
    "    applyBreak\n",
    "    '''\n",
    "    # attributes >>>>>> variables in programming\n",
    "    def __init__(self, make, model, year):\n",
    "        self.make = make\n",
    "        self.model = model\n",
    "        self.year = year\n",
    "        \n",
    "    # behaviours >>>>>> functions in programming\n",
    "    def carDescription(self):\n",
    "        print(f\"Make of car is: {self.make}\")\n",
    "        print(f\"Model of car is: {self.model}\")\n",
    "        print(f\"Year of manufacturing is: {self.year}\")\n",
    "    def move(self):\n",
    "        print(f\"{self.make} car is moving.\")\n",
    "    def applyBreak(self):\n",
    "        print(f\"{self.make} {self.model} is stopping.\")"
   ]
  },
  {
   "cell_type": "code",
   "execution_count": 10,
   "metadata": {},
   "outputs": [],
   "source": [
    "# How to create object(s) of a class\n",
    "\n",
    "# objName = className(required parameters)"
   ]
  },
  {
   "cell_type": "code",
   "execution_count": 7,
   "metadata": {},
   "outputs": [],
   "source": [
    "car1 = Car('Honda', 'Civic', 2019)"
   ]
  },
  {
   "cell_type": "code",
   "execution_count": 11,
   "metadata": {},
   "outputs": [],
   "source": [
    "car2 = Car('Suzuki', 'Cultus', 2015)"
   ]
  },
  {
   "cell_type": "code",
   "execution_count": 13,
   "metadata": {},
   "outputs": [
    {
     "name": "stdout",
     "output_type": "stream",
     "text": [
      "Make of car is: Honda\n",
      "Model of car is: Civic\n",
      "Year of manufacturing is: 2019\n"
     ]
    }
   ],
   "source": [
    "car1.carDescription()"
   ]
  },
  {
   "cell_type": "code",
   "execution_count": 12,
   "metadata": {},
   "outputs": [
    {
     "name": "stdout",
     "output_type": "stream",
     "text": [
      "Make of car is: Suzuki\n",
      "Model of car is: Cultus\n",
      "Year of manufacturing is: 2015\n"
     ]
    }
   ],
   "source": [
    "car2.carDescription()"
   ]
  },
  {
   "cell_type": "code",
   "execution_count": 3,
   "metadata": {},
   "outputs": [
    {
     "name": "stdout",
     "output_type": "stream",
     "text": [
      "Honda car is moving.\n"
     ]
    }
   ],
   "source": [
    "car1.move()"
   ]
  },
  {
   "cell_type": "code",
   "execution_count": 8,
   "metadata": {},
   "outputs": [
    {
     "name": "stdout",
     "output_type": "stream",
     "text": [
      "Honda Civic is stopping.\n"
     ]
    }
   ],
   "source": [
    "car1.applyBreak()"
   ]
  },
  {
   "cell_type": "code",
   "execution_count": 13,
   "metadata": {},
   "outputs": [
    {
     "name": "stdout",
     "output_type": "stream",
     "text": [
      "Suzuki Cultus is stopping.\n"
     ]
    }
   ],
   "source": [
    "car2.applyBreak()"
   ]
  },
  {
   "cell_type": "code",
   "execution_count": 14,
   "metadata": {},
   "outputs": [
    {
     "data": {
      "text/plain": [
       "'Honda'"
      ]
     },
     "execution_count": 14,
     "metadata": {},
     "output_type": "execute_result"
    }
   ],
   "source": [
    "car1.make"
   ]
  },
  {
   "cell_type": "code",
   "execution_count": 15,
   "metadata": {},
   "outputs": [
    {
     "data": {
      "text/plain": [
       "'Suzuki'"
      ]
     },
     "execution_count": 15,
     "metadata": {},
     "output_type": "execute_result"
    }
   ],
   "source": [
    "car2.make"
   ]
  },
  {
   "cell_type": "code",
   "execution_count": 18,
   "metadata": {},
   "outputs": [],
   "source": [
    "#car3 = Car() #press shift TAB within parenthesis to display the SIGNATURE of the class"
   ]
  },
  {
   "cell_type": "markdown",
   "metadata": {},
   "source": [
    "## changing attribute's value of an object"
   ]
  },
  {
   "cell_type": "code",
   "execution_count": 21,
   "metadata": {},
   "outputs": [
    {
     "data": {
      "text/plain": [
       "'Honda'"
      ]
     },
     "execution_count": 21,
     "metadata": {},
     "output_type": "execute_result"
    }
   ],
   "source": [
    "car1.make"
   ]
  },
  {
   "cell_type": "code",
   "execution_count": 22,
   "metadata": {},
   "outputs": [],
   "source": [
    "car1.make = 'Toyota'\n",
    "car1.model = 'Corolla'"
   ]
  },
  {
   "cell_type": "code",
   "execution_count": 23,
   "metadata": {},
   "outputs": [
    {
     "name": "stdout",
     "output_type": "stream",
     "text": [
      "Make of car is: Toyota\n",
      "Model of car is: Corolla\n",
      "Year of manufacturing is: 2019\n"
     ]
    }
   ],
   "source": [
    "car1.carDescription()"
   ]
  },
  {
   "cell_type": "code",
   "execution_count": null,
   "metadata": {},
   "outputs": [],
   "source": []
  },
  {
   "cell_type": "code",
   "execution_count": null,
   "metadata": {},
   "outputs": [],
   "source": []
  },
  {
   "cell_type": "code",
   "execution_count": 16,
   "metadata": {},
   "outputs": [],
   "source": [
    "class Honda(Car): #this is the subclass of main class Car and has all the attributes (variables) and behaviours(functions)\n",
    "                # inherited from the main class, it can also have futher attributes & behaviours\n",
    "    pass"
   ]
  },
  {
   "cell_type": "code",
   "execution_count": null,
   "metadata": {},
   "outputs": [],
   "source": []
  },
  {
   "cell_type": "code",
   "execution_count": null,
   "metadata": {},
   "outputs": [],
   "source": []
  },
  {
   "cell_type": "code",
   "execution_count": null,
   "metadata": {},
   "outputs": [],
   "source": []
  },
  {
   "cell_type": "code",
   "execution_count": null,
   "metadata": {},
   "outputs": [],
   "source": []
  },
  {
   "cell_type": "markdown",
   "metadata": {},
   "source": [
    "# Data files:"
   ]
  },
  {
   "cell_type": "code",
   "execution_count": 1,
   "metadata": {},
   "outputs": [],
   "source": [
    "###### Modes ##############\n",
    "# reading mode\n",
    "# writing mode\n",
    "# append mode\n",
    "###########################"
   ]
  },
  {
   "cell_type": "raw",
   "metadata": {},
   "source": [
    "                        |    r    r+    w    w+    a    a+\n",
    " -----------------------|------------------------------------------\n",
    " read                   |    +    +          +          +\n",
    " write                  |         +     +    +     +    +\n",
    " write after seek       |         +     +    +\n",
    " create                 |               +    +     +    +\n",
    " truncate               |         +     +    +\n",
    " position at start      |    +    +     +    +\n",
    " position at end        |                          +    +"
   ]
  },
  {
   "cell_type": "code",
   "execution_count": 2,
   "metadata": {},
   "outputs": [
    {
     "name": "stdout",
     "output_type": "stream",
     "text": [
      "This is a test file.\n",
      "We will read the contents from python code.\n"
     ]
    }
   ],
   "source": [
    "with open('test.txt') as f:\n",
    "    contents = f.read()\n",
    "print(contents)"
   ]
  },
  {
   "cell_type": "code",
   "execution_count": 3,
   "metadata": {},
   "outputs": [],
   "source": [
    "with open('test.txt', 'a') as f:\n",
    "    f.write('\\nNew line is added using append.')"
   ]
  },
  {
   "cell_type": "code",
   "execution_count": 4,
   "metadata": {},
   "outputs": [],
   "source": [
    "with open('test.txt', 'w') as f:\n",
    "    f.write('It will over write the contents.\\n')\n",
    "    f.write('Hello Data Files.')"
   ]
  },
  {
   "cell_type": "code",
   "execution_count": 7,
   "metadata": {},
   "outputs": [],
   "source": [
    "with open('test.txt', 'r+') as f:\n",
    "    f.write('It will over write the contents.')\n",
    "    f.write('\\nNew line is added using r+ mode.')"
   ]
  },
  {
   "cell_type": "code",
   "execution_count": null,
   "metadata": {},
   "outputs": [],
   "source": []
  },
  {
   "cell_type": "code",
   "execution_count": null,
   "metadata": {},
   "outputs": [],
   "source": []
  },
  {
   "cell_type": "code",
   "execution_count": null,
   "metadata": {},
   "outputs": [],
   "source": []
  },
  {
   "cell_type": "code",
   "execution_count": null,
   "metadata": {},
   "outputs": [],
   "source": []
  },
  {
   "cell_type": "code",
   "execution_count": null,
   "metadata": {},
   "outputs": [],
   "source": []
  },
  {
   "cell_type": "code",
   "execution_count": null,
   "metadata": {},
   "outputs": [],
   "source": []
  },
  {
   "cell_type": "code",
   "execution_count": null,
   "metadata": {},
   "outputs": [],
   "source": []
  },
  {
   "cell_type": "markdown",
   "metadata": {},
   "source": [
    "# Modules"
   ]
  },
  {
   "cell_type": "code",
   "execution_count": 50,
   "metadata": {},
   "outputs": [],
   "source": [
    "# modules are .py Python files which contain multiple functions\n",
    "# import keyword is used to gain access to all the functions in a module"
   ]
  },
  {
   "cell_type": "code",
   "execution_count": 60,
   "metadata": {},
   "outputs": [],
   "source": [
    "# %load mathsModule.py   #magic command to display the contents of a module\n",
    "def addNumbers(x, y):\n",
    "    return x + y\n",
    "\n",
    "def subtractNumbers(x, y):\n",
    "    return x - y\n",
    "    \n",
    "def multiplyNumbers(x, y):\n",
    "    return x * y"
   ]
  },
  {
   "cell_type": "code",
   "execution_count": 61,
   "metadata": {},
   "outputs": [
    {
     "name": "stdout",
     "output_type": "stream",
     "text": [
      "-1\n"
     ]
    }
   ],
   "source": [
    "import mathsModule as mM\n",
    "result = mM.subtractNumbers(2, 3)\n",
    "print(result)"
   ]
  },
  {
   "cell_type": "code",
   "execution_count": 62,
   "metadata": {},
   "outputs": [
    {
     "name": "stdout",
     "output_type": "stream",
     "text": [
      "5\n"
     ]
    }
   ],
   "source": [
    "import mathsModule as mM\n",
    "result = mM.addNumbers(2, 3)\n",
    "print(result)"
   ]
  },
  {
   "cell_type": "code",
   "execution_count": 63,
   "metadata": {},
   "outputs": [
    {
     "name": "stdout",
     "output_type": "stream",
     "text": [
      "6\n"
     ]
    }
   ],
   "source": [
    "import mathsModule as mM\n",
    "result = mM.multiplyNumbers(2, 3)\n",
    "print(result)"
   ]
  },
  {
   "cell_type": "markdown",
   "metadata": {},
   "source": [
    "# CSV files"
   ]
  },
  {
   "cell_type": "code",
   "execution_count": 42,
   "metadata": {},
   "outputs": [],
   "source": [
    "# CSV stands for Comma Seperated Values\n",
    "# CSV files mein write, read & append kar sakte hein\n",
    "# CSV files are like Excel spreadsheets i.e. rows & columns \n",
    "# Each row of Excel spreadsheet is a seperate line in CSV file"
   ]
  },
  {
   "cell_type": "markdown",
   "metadata": {},
   "source": [
    "### Reading, Writing & Appending data in CSV files"
   ]
  },
  {
   "cell_type": "code",
   "execution_count": 43,
   "metadata": {},
   "outputs": [
    {
     "name": "stdout",
     "output_type": "stream",
     "text": [
      "<_csv.reader object at 0x0000017889D4D320>\n"
     ]
    }
   ],
   "source": [
    "import csv\n",
    "with open('abc.csv', 'r') as f:\n",
    "    content=csv.reader(f)\n",
    "    print(content)        # this content is not in readable format, we'll have to loop through to read the data"
   ]
  },
  {
   "cell_type": "code",
   "execution_count": 44,
   "metadata": {},
   "outputs": [
    {
     "name": "stdout",
     "output_type": "stream",
     "text": [
      "['Year', 'Event', 'Winner']\n",
      "['1995', 'Best Kept Lawn', 'None']\n",
      "['1996', 'GobStones', 'Welch Nationals']\n",
      "['2006', 'World Cup', 'England']\n"
     ]
    }
   ],
   "source": [
    "import csv\n",
    "with open('abc.csv', 'r') as f:\n",
    "    content=csv.reader(f)\n",
    "    for eachLine in content:\n",
    "        print(eachLine)"
   ]
  },
  {
   "cell_type": "code",
   "execution_count": 47,
   "metadata": {},
   "outputs": [
    {
     "name": "stdout",
     "output_type": "stream",
     "text": [
      "['Year', 'Event', 'Winner', '1995', 'Best Kept Lawn', 'None', '1996', 'GobStones', 'Welch Nationals', '2006', 'World Cup', 'England']\n"
     ]
    }
   ],
   "source": [
    "import csv\n",
    "with open('abc.csv', 'r') as f:\n",
    "    content=csv.reader(f)\n",
    "    lines=[]\n",
    "    for eachLine in content:\n",
    "        lines += eachLine\n",
    "    print(lines)"
   ]
  },
  {
   "cell_type": "markdown",
   "metadata": {},
   "source": [
    "#### Writing data into CSV files"
   ]
  },
  {
   "cell_type": "code",
   "execution_count": 48,
   "metadata": {},
   "outputs": [],
   "source": [
    "import csv\n",
    "with open('xyz.csv', 'w', newline=\"\") as f:\n",
    "    writer = csv.writer(f)\n",
    "    writer.writerow(['ID', 'Name', 'Age', 'City'])\n",
    "    writer.writerow([25, 'Ali Raza', 31, 'Rawalpindi'])\n",
    "    writer.writerow([10, 'Naeem Khan', 27, 'Peshawar'])"
   ]
  },
  {
   "cell_type": "code",
   "execution_count": 49,
   "metadata": {},
   "outputs": [],
   "source": [
    "import csv\n",
    "with open('xyz.csv', 'a', newline=\"\") as f:\n",
    "    writer = csv.writer(f)\n",
    "    \n",
    "    writer.writerow([15, 'Riaz Hussain', 37, 'Sialkot'])\n",
    "    writer.writerow([20, 'Khali Mehmood', 29, 'Lahore'])\n"
   ]
  },
  {
   "cell_type": "markdown",
   "metadata": {},
   "source": [
    "# JSON (Jave Script Object Notation )Files"
   ]
  },
  {
   "cell_type": "markdown",
   "metadata": {},
   "source": [
    "#### writing data to json files"
   ]
  },
  {
   "cell_type": "code",
   "execution_count": 33,
   "metadata": {},
   "outputs": [],
   "source": [
    "import json\n",
    "vowelList = ['a', 'e', 'i', 'o', 'u']\n",
    "with open('vowels.json', 'w') as f:\n",
    "    json.dump(vowelList, f)"
   ]
  },
  {
   "cell_type": "code",
   "execution_count": 34,
   "metadata": {},
   "outputs": [],
   "source": [
    "import json\n",
    "customer = {'ID': 2031, 'Name': 'Amir Hussain', 'Age': 35, 'Address': 'Rawal Town, Islamabad'}\n",
    "with open('customers.json', 'w') as f:\n",
    "    json.dump(customer,f)"
   ]
  },
  {
   "cell_type": "markdown",
   "metadata": {},
   "source": [
    "#### reading data from json files"
   ]
  },
  {
   "cell_type": "code",
   "execution_count": 35,
   "metadata": {},
   "outputs": [
    {
     "name": "stdout",
     "output_type": "stream",
     "text": [
      "{'ID': 2031, 'Name': 'Amir Hussain', 'Age': 35, 'Address': 'Rawal Town, Islamabad'}\n",
      "Rawal Town, Islamabad\n"
     ]
    }
   ],
   "source": [
    "import json\n",
    "with open('customers.json', 'r') as f1:\n",
    "    cst = json.load(f1)\n",
    "print(cst)\n",
    "print(cst['Address'])"
   ]
  },
  {
   "cell_type": "code",
   "execution_count": 36,
   "metadata": {},
   "outputs": [
    {
     "name": "stdout",
     "output_type": "stream",
     "text": [
      "['e']\n",
      "['a', 'e', 'i', 'o', 'u']\n",
      "['a', 'o']\n",
      "['u', 'o', 'i', 'e', 'a']\n"
     ]
    }
   ],
   "source": [
    "import json\n",
    "with open('vowels.json') as f2:\n",
    "    lst = json.load(f2)\n",
    "print(lst[1:2])\n",
    "print(lst)\n",
    "print(lst[::3])\n",
    "print(lst[::-1])"
   ]
  },
  {
   "cell_type": "markdown",
   "metadata": {},
   "source": [
    "### add data to existing json file"
   ]
  },
  {
   "cell_type": "code",
   "execution_count": 41,
   "metadata": {},
   "outputs": [],
   "source": [
    "import json\n",
    "with open('vowels.json', 'a') as f:\n",
    "    json.dump(['testing'], f)"
   ]
  },
  {
   "cell_type": "markdown",
   "metadata": {},
   "source": [
    "# Exceptions"
   ]
  },
  {
   "cell_type": "markdown",
   "metadata": {},
   "source": [
    "### Exceptions are run time errors\n",
    "### Compile time errors are syntax errors"
   ]
  },
  {
   "cell_type": "code",
   "execution_count": 2,
   "metadata": {},
   "outputs": [],
   "source": [
    "# Python uses special objects, called Exceptions to manage errors that raise during program's execution\n",
    "# Whenever an error occurs that makes Python unsure what to do next, it creates an Exception object"
   ]
  },
  {
   "cell_type": "code",
   "execution_count": 3,
   "metadata": {},
   "outputs": [],
   "source": [
    "# Exceptions are handled using\n",
    "# try\n",
    "# ....\n",
    "# except\n",
    "# ....\n",
    "\n",
    "# blocks"
   ]
  },
  {
   "cell_type": "code",
   "execution_count": 11,
   "metadata": {},
   "outputs": [
    {
     "name": "stdout",
     "output_type": "stream",
     "text": [
      "Enter a number: 5\n",
      "Enter 2nd number: 0\n",
      "Exception handelled>> division by zero\n"
     ]
    }
   ],
   "source": [
    "value1 = int(input(\"Enter a number: \"))\n",
    "value2 = int(input(\"Enter 2nd number: \"))\n",
    "lst=[]\n",
    "try:\n",
    "    ans = value1/value2\n",
    "    print(lst[9])\n",
    "except Exception as e:\n",
    "    print(f\"Exception handelled>> {e}\")\n",
    "else: # if no Exception is generated\n",
    "      # else block will execute\n",
    "    print(f\"the answer is: {ans}\")"
   ]
  },
  {
   "cell_type": "code",
   "execution_count": 7,
   "metadata": {},
   "outputs": [
    {
     "name": "stdout",
     "output_type": "stream",
     "text": [
      "Enter a number: 34\n",
      "Enter 2nd number: 9\n",
      "the answer is: 3.7777777777777777\n"
     ]
    }
   ],
   "source": [
    "value1 = int(input(\"Enter a number: \"))\n",
    "value2 = int(input(\"Enter 2nd number: \"))\n",
    "try:\n",
    "    ans = value1/value2\n",
    "except Exception as e:\n",
    "    print(f\"Exception handelled>> {e}\")\n",
    "else: # if no Exception is generated\n",
    "      # else block will execute\n",
    "    print(f\"the answer is: {ans}\")"
   ]
  },
  {
   "cell_type": "code",
   "execution_count": 8,
   "metadata": {},
   "outputs": [
    {
     "name": "stdout",
     "output_type": "stream",
     "text": [
      "Enter a number: 45\n",
      "Enter 2nd number: 9\n",
      "Exception handelled>> list index out of range\n"
     ]
    }
   ],
   "source": [
    "value1 = int(input(\"Enter a number: \"))\n",
    "value2 = int(input(\"Enter 2nd number: \"))\n",
    "lst=[]\n",
    "try:\n",
    "    ans = value1/value2\n",
    "    print(lst[9])\n",
    "except Exception as e:\n",
    "    print(f\"Exception handelled>> {e}\")\n",
    "else: # if no Exception is generated\n",
    "      # else block will execute\n",
    "    print(f\"the answer is: {ans}\")"
   ]
  },
  {
   "cell_type": "code",
   "execution_count": 10,
   "metadata": {},
   "outputs": [
    {
     "name": "stdout",
     "output_type": "stream",
     "text": [
      "Enter a number: 45\n",
      "Enter 2nd number: 5\n",
      "Exception handelled>> [Errno 2] No such file or directory: 'myFile.txt'\n"
     ]
    }
   ],
   "source": [
    "value1 = int(input(\"Enter a number: \"))\n",
    "value2 = int(input(\"Enter 2nd number: \"))\n",
    "lst=[]\n",
    "try:\n",
    "    ans = value1/value2\n",
    "    open('myFile.txt')\n",
    "except Exception as e:\n",
    "    print(f\"Exception handelled>> {e}\")\n",
    "else: # if no Exception is generated\n",
    "      # else block will execute\n",
    "    print(f\"the answer is: {ans}\")"
   ]
  },
  {
   "cell_type": "code",
   "execution_count": 12,
   "metadata": {},
   "outputs": [
    {
     "name": "stdout",
     "output_type": "stream",
     "text": [
      "Enter a number: 5\n",
      "Enter 2nd number: 5\n",
      "Exception handelled>> [Errno 2] No such file or directory: 'myFile.txt'\n",
      "finally part will always execute...\n"
     ]
    }
   ],
   "source": [
    "value1 = int(input(\"Enter a number: \"))\n",
    "value2 = int(input(\"Enter 2nd number: \"))\n",
    "lst=[]\n",
    "try:\n",
    "    ans = value1/value2\n",
    "    open('myFile.txt')\n",
    "except Exception as e:\n",
    "    print(f\"Exception handelled>> {e}\")\n",
    "else: # if no Exception is generated\n",
    "      # else block will execute\n",
    "    print(f\"the answer is: {ans}\")\n",
    "finally:\n",
    "    print(\"finally part will always execute...\")"
   ]
  },
  {
   "cell_type": "code",
   "execution_count": 13,
   "metadata": {},
   "outputs": [
    {
     "name": "stdout",
     "output_type": "stream",
     "text": [
      "Exception 0 division handled.\n",
      "no matter what, finally will alway execute...\n"
     ]
    }
   ],
   "source": [
    "lst=[]\n",
    "try:\n",
    "    5/0\n",
    "    c = lst[10]\n",
    "except ZeroDivisionError:\n",
    "    print('Exception 0 division handled.')\n",
    "else:\n",
    "    print('no Exception raised.')\n",
    "finally:\n",
    "    print('no matter what, finally will alway execute...')"
   ]
  },
  {
   "cell_type": "code",
   "execution_count": 15,
   "metadata": {},
   "outputs": [
    {
     "name": "stdout",
     "output_type": "stream",
     "text": [
      "no Exception raised.\n",
      "no matter what, finally will alway execute...\n"
     ]
    }
   ],
   "source": [
    "lst=[i for i in range(1, 100)]\n",
    "try:\n",
    "    5/5\n",
    "    c = lst[10]\n",
    "except ZeroDivisionError:\n",
    "    print('Exception 0 division handled.')\n",
    "else:\n",
    "    print('no Exception raised.')\n",
    "finally:\n",
    "    print('no matter what, finally will alway execute...')"
   ]
  },
  {
   "cell_type": "code",
   "execution_count": 16,
   "metadata": {},
   "outputs": [
    {
     "name": "stdout",
     "output_type": "stream",
     "text": [
      "no matter what, finally will alway execute...\n"
     ]
    },
    {
     "ename": "IndexError",
     "evalue": "list index out of range",
     "output_type": "error",
     "traceback": [
      "\u001b[1;31m---------------------------------------------------------------------------\u001b[0m",
      "\u001b[1;31mIndexError\u001b[0m                                Traceback (most recent call last)",
      "\u001b[1;32m<ipython-input-16-43fa220f398d>\u001b[0m in \u001b[0;36m<module>\u001b[1;34m\u001b[0m\n\u001b[0;32m      2\u001b[0m \u001b[1;32mtry\u001b[0m\u001b[1;33m:\u001b[0m\u001b[1;33m\u001b[0m\u001b[1;33m\u001b[0m\u001b[0m\n\u001b[0;32m      3\u001b[0m     \u001b[1;36m5\u001b[0m\u001b[1;33m/\u001b[0m\u001b[1;36m5\u001b[0m\u001b[1;33m\u001b[0m\u001b[1;33m\u001b[0m\u001b[0m\n\u001b[1;32m----> 4\u001b[1;33m     \u001b[0mc\u001b[0m \u001b[1;33m=\u001b[0m \u001b[0mlst\u001b[0m\u001b[1;33m[\u001b[0m\u001b[1;36m10\u001b[0m\u001b[1;33m]\u001b[0m\u001b[1;33m\u001b[0m\u001b[1;33m\u001b[0m\u001b[0m\n\u001b[0m\u001b[0;32m      5\u001b[0m \u001b[1;32mexcept\u001b[0m \u001b[0mZeroDivisionError\u001b[0m\u001b[1;33m:\u001b[0m\u001b[1;33m\u001b[0m\u001b[1;33m\u001b[0m\u001b[0m\n\u001b[0;32m      6\u001b[0m     \u001b[0mprint\u001b[0m\u001b[1;33m(\u001b[0m\u001b[1;34m'Exception 0 division handled.'\u001b[0m\u001b[1;33m)\u001b[0m\u001b[1;33m\u001b[0m\u001b[1;33m\u001b[0m\u001b[0m\n",
      "\u001b[1;31mIndexError\u001b[0m: list index out of range"
     ]
    }
   ],
   "source": [
    "lst=[i for i in range(1, 6)]\n",
    "try:\n",
    "    5/5\n",
    "    c = lst[10]\n",
    "except ZeroDivisionError:\n",
    "    print('Exception 0 division handled.')\n",
    "else:\n",
    "    print('no Exception raised.')\n",
    "finally:\n",
    "    print('no matter what, finally will alway execute...')"
   ]
  },
  {
   "cell_type": "code",
   "execution_count": 17,
   "metadata": {},
   "outputs": [
    {
     "name": "stdout",
     "output_type": "stream",
     "text": [
      "Exception 0 division/Index Error handled.\n",
      "no matter what, finally will alway execute...\n"
     ]
    }
   ],
   "source": [
    "lst=[i for i in range(1, 6)]\n",
    "try:\n",
    "    5/5\n",
    "    c = lst[10]\n",
    "except (ZeroDivisionError, IndexError): # 2 exceptions being handled using tupple\n",
    "    print('Exception 0 division/Index Error handled.')\n",
    "else:\n",
    "    print('no Exception raised.')\n",
    "finally:\n",
    "    print('no matter what, finally will alway execute...')"
   ]
  },
  {
   "cell_type": "code",
   "execution_count": 20,
   "metadata": {},
   "outputs": [
    {
     "name": "stdout",
     "output_type": "stream",
     "text": [
      "no matter what, finally will alway execute...\n"
     ]
    },
    {
     "ename": "FileNotFoundError",
     "evalue": "[Errno 2] No such file or directory: 'xyz.txt'",
     "output_type": "error",
     "traceback": [
      "\u001b[1;31m---------------------------------------------------------------------------\u001b[0m",
      "\u001b[1;31mFileNotFoundError\u001b[0m                         Traceback (most recent call last)",
      "\u001b[1;32m<ipython-input-20-2ac3dc0b6f7e>\u001b[0m in \u001b[0;36m<module>\u001b[1;34m\u001b[0m\n\u001b[0;32m      3\u001b[0m     \u001b[1;36m5\u001b[0m\u001b[1;33m/\u001b[0m\u001b[1;36m5\u001b[0m\u001b[1;33m\u001b[0m\u001b[1;33m\u001b[0m\u001b[0m\n\u001b[0;32m      4\u001b[0m     \u001b[0mc\u001b[0m \u001b[1;33m=\u001b[0m \u001b[0mlst\u001b[0m\u001b[1;33m[\u001b[0m\u001b[1;36m1\u001b[0m\u001b[1;33m]\u001b[0m\u001b[1;33m\u001b[0m\u001b[1;33m\u001b[0m\u001b[0m\n\u001b[1;32m----> 5\u001b[1;33m     \u001b[0mopen\u001b[0m\u001b[1;33m(\u001b[0m\u001b[1;34m'xyz.txt'\u001b[0m\u001b[1;33m)\u001b[0m\u001b[1;33m\u001b[0m\u001b[1;33m\u001b[0m\u001b[0m\n\u001b[0m\u001b[0;32m      6\u001b[0m \u001b[1;32mexcept\u001b[0m \u001b[1;33m(\u001b[0m\u001b[0mZeroDivisionError\u001b[0m\u001b[1;33m,\u001b[0m \u001b[0mIndexError\u001b[0m\u001b[1;33m)\u001b[0m\u001b[1;33m:\u001b[0m \u001b[1;31m# other than these 2, exceptions will not be handled.\u001b[0m\u001b[1;33m\u001b[0m\u001b[1;33m\u001b[0m\u001b[0m\n\u001b[0;32m      7\u001b[0m     \u001b[0mprint\u001b[0m\u001b[1;33m(\u001b[0m\u001b[1;34m'Exception 0 division/Index Error handled.'\u001b[0m\u001b[1;33m)\u001b[0m\u001b[1;33m\u001b[0m\u001b[1;33m\u001b[0m\u001b[0m\n",
      "\u001b[1;31mFileNotFoundError\u001b[0m: [Errno 2] No such file or directory: 'xyz.txt'"
     ]
    }
   ],
   "source": [
    "lst=[i for i in range(1, 6)]\n",
    "try:\n",
    "    5/5\n",
    "    c = lst[1]\n",
    "    open('xyz.txt')\n",
    "except (ZeroDivisionError, IndexError): # other than these 2, exceptions will not be handled.\n",
    "    print('Exception 0 division/Index Error handled.')\n",
    "else:\n",
    "    print('no Exception raised.')\n",
    "finally:                                           # finally block will alwyas be executed....................\n",
    "    print('no matter what, finally will alway execute...')"
   ]
  }
 ],
 "metadata": {
  "kernelspec": {
   "display_name": "Python 3",
   "language": "python",
   "name": "python3"
  },
  "language_info": {
   "codemirror_mode": {
    "name": "ipython",
    "version": 3
   },
   "file_extension": ".py",
   "mimetype": "text/x-python",
   "name": "python",
   "nbconvert_exporter": "python",
   "pygments_lexer": "ipython3",
   "version": "3.7.3"
  }
 },
 "nbformat": 4,
 "nbformat_minor": 2
}
